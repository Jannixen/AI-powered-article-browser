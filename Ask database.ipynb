{
 "cells": [
  {
   "cell_type": "code",
   "execution_count": 1,
   "id": "e26870ed-3ea0-4c92-8fe4-4cb1e096b114",
   "metadata": {},
   "outputs": [],
   "source": [
    "from langchain_qdrant import QdrantVectorStore\n",
    "from qdrant_client import QdrantClient\n",
    "from dotenv import load_dotenv\n",
    "import os\n",
    "from database_utils import calculate_embedding\n",
    "from langchain_community.embeddings.fastembed import FastEmbedEmbeddings\n",
    "from langchain.llms import OpenAI\n",
    "from langchain.retrievers.self_query.base import SelfQueryRetriever\n",
    "from langchain.chat_models import ChatOpenAI\n",
    "from langchain.vectorstores import Qdrant\n",
    "from qdrant_client.http.models import Distance, VectorParams\n",
    "from langchain.embeddings import OpenAIEmbeddings\n",
    "from langchain.chains.query_constructor.base import AttributeInfo\n",
    "from langchain.chains import RetrievalQA, ConversationalRetrievalChain\n",
    "from langchain.prompts import PromptTemplate\n",
    "from langchain.memory import ConversationBufferMemory\n",
    "import json\n",
    "import warnings\n",
    "\n",
    "warnings.filterwarnings(\"ignore\")\n",
    "\n",
    "\n",
    "load_dotenv()\n",
    "QDRANT_KEY = os.getenv('QDRANT_KEY')\n",
    "QDRANT_CLUSTER_URL = os.getenv('QDRANT_CLUSTER_URL')\n",
    "HUGGING_FACE_TOKEN = os.getenv('HUGGING_FACE_TOKEN')\n",
    "OPENAI_API_KEY = os.getenv('OPENAI_API_KEY')"
   ]
  },
  {
   "cell_type": "markdown",
   "id": "c46b05c3-49d6-43b0-a014-b99042c2e116",
   "metadata": {},
   "source": [
    "# Search for related articles"
   ]
  },
  {
   "cell_type": "code",
   "execution_count": 2,
   "id": "025c9af5-dbdf-4c4b-8fc6-35bba6d68ac4",
   "metadata": {},
   "outputs": [],
   "source": [
    "def query_qdrant(question, collection_name, qdrant_url, qdrant_key, top_k=5):\n",
    "    \"\"\"\n",
    "    Query Qdrant database with a question to find the most similar records.\n",
    "\n",
    "    Parameters:\n",
    "    - question (str): The question or query string.\n",
    "    - collection_name (str): The name of the Qdrant collection to query.\n",
    "    - qdrant_url (str): The Qdrant server URL.\n",
    "    - qdrant_key (str): API key for Qdrant authentication.\n",
    "    - top_k (int): Number of top results to return (default is 5).\n",
    "\n",
    "    Returns:\n",
    "    - list: A list of the top-k results with metadata and similarity scores.\n",
    "    \"\"\"\n",
    "    # Initialize Qdrant client\n",
    "    client = QdrantClient(url=qdrant_url, api_key=qdrant_key)\n",
    "\n",
    "    # Load a SentenceTransformer model for embedding generation\n",
    "    model = FastEmbedEmbeddings()  # Replace with your model if needed\n",
    "\n",
    "    # Generate embedding for the question\n",
    "    question_embedding = calculate_embedding(question)\n",
    "\n",
    "    # Perform the search in the specified collection\n",
    "    search_results = client.search(\n",
    "        collection_name=collection_name,\n",
    "        query_vector=question_embedding,\n",
    "        limit=top_k,  # Return top-k results\n",
    "    )\n",
    "\n",
    "    # Parse and return the results\n",
    "    results = []\n",
    "    for result in search_results:\n",
    "        results.append({\n",
    "            \"id\": result.id,\n",
    "            \"score\": result.score,\n",
    "            \"payload\": result.payload,  # Metadata of the record\n",
    "        })\n",
    "\n",
    "    return results"
   ]
  },
  {
   "cell_type": "code",
   "execution_count": 3,
   "id": "62b3cb18-1bf2-454f-9c16-1f291e1127f6",
   "metadata": {},
   "outputs": [
    {
     "name": "stdout",
     "output_type": "stream",
     "text": [
      "[\n",
      "    {\n",
      "        \"id\": \"96efba6b-b4c2-43bf-a4c3-c4f82debfb27\",\n",
      "        \"score\": 0.6449732,\n",
      "        \"payload\": {\n",
      "            \"page_content\": \"Apple makes blogs reveal sources  Apple has won its legal fight to make three bloggers reveal who told them about unreleased products.  The bid to unmask the employees leaking information was launched in December 2004 following online articles about Apple's Asteroid product. Now Apple has won the right to see e-mail records from the three bloggers to root out the culprit. A lawyer for the three bloggers said the ruling set a dangerous precedent that could harm all news reporters.  Apple's lawsuit accused anonymous people of stealing trade secrets about the Asteroid music product and leaking them to the PowerPage, Apple Insider and Think Secret websites. All three are Apple fan sites that obsessively watch the iconic firm for information about future products. Apple is notoriously secretive about upcoming products which gives any snippets of information about what it is working on all the more value. The lawsuit to reveal the names of the leakers was filed against the Power Page and Apple Insider sites.  The separate legal fight with Think Secret has yet to be resolved. In the ruling handed down this week by Santa Clara County Superior Court Judge James Kleinberg, Apple can now get its hands on e-mail records from the bloggers' net providers. In making his ruling, Judge Kleinberg said that laws covering the divulging of trade secrets outweighed considerations of public interest. California has so-called \\\"shield\\\" laws which protect journalists from prosecution if what they are writing about can be shown to be in the public interest. The Judge wrote: \\\"...it is not surprising that hundreds of thousands of 'hits' on a website about Apple have and will happen. But an interested public is not the same as the public interest\\\". Judge Kleinberg said the question of whether the bloggers were journalists or not did not apply because laws governing the right to keep trade secrets confidential covered journalists, too. The Electronic Frontier Foundation, which is acting as legal counsel for Power Page and Apple Insider, said the ruling had potentially wide implications. \\\"Anyone who reports on companies or the trade press should be concerned about this ruling,\\\" said EFF lawyer Kurt Opsahl. Mr Opsahl said the EFF was planning to appeal against the ruling because the bloggers were journalists and US federal laws stop net firms handing over copies of e-mail messages if the owner of that account does not give their consent.\",\n",
      "            \"label\": \"tech\",\n",
      "            \"keywords\": \"['Apple', 'makes blogs', 'Judge Kleinberg', 'bloggers', 'Asteroid product']\",\n",
      "            \"source\": \"https://www.kaggle.com/datasets/jacopoferretti/bbc-articles-dataset\"\n",
      "        }\n",
      "    },\n",
      "    {\n",
      "        \"id\": \"1c5d915e-032a-48e6-865c-aa6f45b5e7ef\",\n",
      "        \"score\": 0.6443488,\n",
      "        \"payload\": {\n",
      "            \"page_content\": \"apple makes blogs reveal sources apple has won its legal fight to make three bloggers reveal who told them about unreleased products.  the bid to unmask the employees leaking information was launched in december 2004 following online articles about apple s asteroid product. now apple has won the right to see e-mail records from the three bloggers to root out the culprit. a lawyer for the three bloggers said the ruling set a dangerous precedent that could harm all news reporters.  apple s lawsuit accused anonymous people of stealing trade secrets about the asteroid music product and leaking them to the powerpage  apple insider and think secret websites. all three are apple fan sites that obsessively watch the iconic firm for information about future products. apple is notoriously secretive about upcoming products which gives any snippets of information about what it is working on all the more value. the lawsuit to reveal the names of the leakers was filed against the power page and apple insider sites.  the separate legal fight with think secret has yet to be resolved. in the ruling handed down this week by santa clara county superior court judge james kleinberg  apple can now get its hands on e-mail records from the bloggers  net providers. in making his ruling  judge kleinberg said that laws covering the divulging of trade secrets outweighed considerations of public interest. california has so-called  shield  laws which protect journalists from prosecution if what they are writing about can be shown to be in the public interest. the judge wrote:  ...it is not surprising that hundreds of thousands of  hits  on a website about apple have and will happen. but an interested public is not the same as the public interest . judge kleinberg said the question of whether the bloggers were journalists or not did not apply because laws governing the right to keep trade secrets confidential covered journalists  too. the electronic frontier foundation  which is acting as legal counsel for power page and apple insider  said the ruling had potentially wide implications.  anyone who reports on companies or the trade press should be concerned about this ruling   said eff lawyer kurt opsahl. mr opsahl said the eff was planning to appeal against the ruling because the bloggers were journalists and us federal laws stop net firms handing over copies of e-mail messages if the owner of that account does not give their consent.\",\n",
      "            \"label\": \"tech\",\n",
      "            \"keywords\": [\n",
      "                \"apple\",\n",
      "                \"makes blogs\",\n",
      "                \"bloggers\",\n",
      "                \"ruling\",\n",
      "                \"trade\"\n",
      "            ],\n",
      "            \"source\": \"http://mlg.ucd.ie/datasets/bbc.html\"\n",
      "        }\n",
      "    },\n",
      "    {\n",
      "        \"id\": \"a0f9cc32-2f46-4c5c-93dc-9bd0d0b4e9db\",\n",
      "        \"score\": 0.63497126,\n",
      "        \"payload\": {\n",
      "            \"page_content\": \"Apple unveils low-cost 'Mac mini'  Apple has unveiled a new, low-cost Macintosh computer for the masses, billed as the Mac mini.  Chief executive Steve Jobs showed off the new machine at his annual MacWorld speech, in San Francisco. The $499 Macintosh, sold for \\u00a3339 in the UK, was described by Jobs as the \\\"most important Mac\\\" made by Apple. Mr Jobs also unveiled the iPod shuffle, a new music player using cheaper flash memory rather than hard drives, which are used in more expensive iPods.  The new computer shifts the company into new territory - traditionally, the firm is known as a design and innovation-led firm rather than as a mass-market manufacturer. The Mac mini comes without a monitor, keyboard and mouse, and a second version with a larger hard drive will also be sold for $599.  The machine - which will be available from 22 January - was described by Jobs as \\\"BYODKM... bring your own display, keyboard, and mouse\\\". In an attempt to win over Windows PC customers, Mr Jobs said it would appeal to people thinking of changing operating systems. \\\"People who are thinking of switching will have no more excuses,\\\" he said. \\\"It's the newest and most affordable Mac ever.\\\" The new computer has been the subject of speculation for several weeks and while few people will be surprised by the announcement many analysts had already said it was a sensible move. In January, Apple sued a website after it published what it said were specifications for the new computer. Ian Harris, deputy editor of UK magazine Mac Format, said the machine would appeal to PC-owning consumers who had purchased an iPod.  \\\"They want a further taste of Mac because they like what they have seen with iPod.\\\" Harris added: \\\"Everybody thought that Apple was happy to remain a niche maker of luxury computers, and moving into a market dominated by low margin manufacturers like Dell is a bold move. \\\"But it shows that Apple is keen to capitalise on the mass market success it's had with the iPod. The Mac mini will appeal to PC users looking for an attractive, 'no fuss' computer.\\\" The new iPod shuffle comes in two versions - one offering 512mb of storage for $99 (\\u00a369 in the Uk) and a second with one gigabyte of storage for $149 (\\u00a399) - and went on sale Tuesday. The music player has no display and will play songs either consecutively or shuffled. The smaller iPod will hold about 120 songs, said Mr Jobs. Mr Jobs told the delegates at MacWorld that iPod already had a 65% market share of all digital music players.\",\n",
      "            \"label\": \"tech\",\n",
      "            \"keywords\": \"['Mac mini', 'Jobs', 'unveils low-cost', 'Apple', 'iPod']\",\n",
      "            \"source\": \"https://www.kaggle.com/datasets/jacopoferretti/bbc-articles-dataset\"\n",
      "        }\n",
      "    },\n",
      "    {\n",
      "        \"id\": \"8df20d26-b8ba-402f-9f11-11d4e44f03b4\",\n",
      "        \"score\": 0.62993014,\n",
      "        \"payload\": {\n",
      "            \"page_content\": \"podcasts mark rise of diy radio an apple ipod or other digital music players can hold anything up to 10 000 songs  which is a lot of space to fill.  but more and more ipod owners are filling that space with audio content created by an unpredictable assortment of producers. it is called  podcasting  and its strongest proponent is former mtv host and vj (video jockey) adam curry. podcasting takes its name from the apple ipod  although you do not need an ipod to create one or to listen to a podcast. a podcast is basically an internet-based radio show which podcasters create  usually in the comfort of their own home. they need only a microphone  a pc  and some editing software. they then upload their shows to the internet and others can download and listen to them  all for free. using technology based on xml computer code and rss - really simple syndication - listeners can subscribe to podcasts collected automatically in a bit of software  which mr curry has pioneered. the latest mp3 files of shows can then be picked up by a music playing device automatically.  mr curry records  hosts  edits and produce a daily  40 minute podcast called the daily source code. he wants to make podcasting  the next big thing  and says it is an extension of his childhood love of radio gadgetry.  i was always into technologies and wires   he explains.  my parents gave me the radio shack 101 project kit  which allows you to build an am transmitter and subsequently an fm transmitter.  i had my mom drive me around the block  see how far it would reach on the car radio.   mr curry is american  but he grew up in the netherlands where he hosted illegal  pirate radio shows in the dutch capital. he tried university in the us  and ended up back in holland where he hosted a music video show. he spent the next seven years in new york where he worked at mtv hosting the top 20 video countdown  but spent most of his hours tinkering with this new thing called the internet.  at a certain point in 1995  i was driving in on a friday afternoon  beautiful blue sky  one of those beautiful days thinking  this is so stupid.  you know  i m going do the top 20 countdown  take the cheque  go home  and sit on the internet until three in the morning.  so  after i finished the show  i quit. i said  on air  it s been great  i ve been here for seven years at that point  there s something on the internet  i ve got to go find it  and i ll see you later.   but mr curry s technology and broadcast interests started to gel a couple of years ago when computer storage was growing exponentially and high-speed internet connections were becoming more widely available. the mp3 format also meant that people could create and upload audio more cheaply and efficiently than ever before.  most importantly  mr curry says  people across the globe were bored with the radio they were hearing.  listen to 99% of the radio that you hear today  it s radio voices  and it s fake  it s just fake.  he wanted to make it easier for people to find  real voices  on the internet. he wanted software that would automatically download new audio content directly onto players like  ipods. mr curry is not a computer programmer  so he asked others to create one for him. no one did  so he tried to write one himself. he finished it a few months ago and says it  totally sucked.  he put it up on the net as open source software and now dozens of coders and audio junkies are refining it; the result is a work in progress called  ipodder . doug kaye  a california-based podcaster  praises the former mtv vj for what he has done.  adam created a simple script that solved what we call the last mile problem. ipodder takes audio from the web and brings it all the way down to the mp3 player   he explains.  people can wake up in the morning  pick up their ipods as they go to work or before they go exercise  and discover that there s all this new content automatically put onto their players.  it is created an explosion in podcasting content and podcasters are springing up in australia  finland  brazil  even malaysia. one couple broadcasts theirs  the dawn and drew show  from wisconsin in the us  sometimes even from the comfort of their own bed. topics range from the comfort of their bed  to the latest films or music and have thousands of listeners.  already  websites are springing up that point listeners in the right direction of good podcasts.  chris mcintyre runs podcast alley and says that there are good sites out there but that not everyone has the technological know-how to simply listen.  if i were to tell my mom  or my mother-in-law to copy an xml or rss file to their podcast aggregator  they would think i was speaking a foreign language   mr mcintyre says. along with technical challenges  there may be legal challenges to podcasters who air their favourite  albeit copyrighted  music. some in podcasting also worry that too much attention may turn what they see as the  anti-radio  into something that is more like conventional broadcasting. already there is interest in podcasting from the corporate world. heineken is doing its own podcast now  and so is playboy. for his part  adam curry s pressing ahead with his own vision of what podcasting should be. he loves doing the daily source code because it is about introducing good music and cool ideas to new audiences. he has even been called the ed sullivan or johnny carson of podcasting which  he says   is a badge i ll wear with great honour.  to be the johnny carson  or ed sullivan of anything is wonderful. and you know what  you don t need a hell of a lot of talent.  you just have to be nice  have your ears open  and let people shine. and that s good for me.   clark boyd is technology correspondent for the world  a bbc world service and wgbh-boston co-production.\",\n",
      "            \"label\": \"tech\",\n",
      "            \"keywords\": [\n",
      "                \"radio\",\n",
      "                \"curry\",\n",
      "                \"podcasting\",\n",
      "                \"apple ipod\",\n",
      "                \"internet\"\n",
      "            ],\n",
      "            \"source\": \"http://mlg.ucd.ie/datasets/bbc.html\"\n",
      "        }\n",
      "    },\n",
      "    {\n",
      "        \"id\": \"0f1222e1-fa15-4b39-8084-ced939f4bb83\",\n",
      "        \"score\": 0.6199037,\n",
      "        \"payload\": {\n",
      "            \"page_content\": \"Apple attacked over sources row  Civil liberties group the Electronic Frontier Foundation (EFF) has joined a legal fight between three US online journalists and Apple.  Apple wants the reporters to reveal 20 sources used for stories which leaked information about forthcoming products, including the Mac Mini. The EFF, representing the reporters, has asked California's Superior court to stop Apple pursuing the sources. It argues that the journalists are protected by the American constitution. The EFF says the case threatens the basic freedoms of the press.  Apple is particularly keen to find the source for information about an unreleased product code-named Asteroid and has asked the journalists' e-mail providers to hand over communications relevant to that. \\\"Rather than confronting the issue of reporter's privilege head-on, Apple is going to the journalist's ISPs for his e-mails,\\\" said EFF lawyer Kurt Opsahl. \\\"This undermines a fundamental First Amendment right that protects all reporters. \\\"If the court lets Apple get away with this, and exposes the confidences gained by these reporters, potential confidential sources will be deterred from providing information to the media and the public will lose a vital outlet for independent news, analysis and commentary,\\\" he said. The case began in December 2004 when Apple asked a local Californian court to get the journalists to reveal their sources for articles published on websites AppleInsider.com and PowerPage.org.  Apple also sent requested information from the Nfox.com, the internet service provider of PowerPage's publisher Jason O-Grady. As well as looking at how far corporations can go in preventing information from being published, the case will also examine whether online journalists have the same privileges and protections as those writing for newspapers and magazines. The EFF has gained some powerful allies in its legal battle with Apple, including Professor Tom Goldstein, former dean of the Journalism School at the University of California and Dan Gillmor, a well-known Silicon Valley journalist. Apple was not immediately available for comment.\",\n",
      "            \"label\": \"tech\",\n",
      "            \"keywords\": \"['Frontier Foundation', 'Apple', 'EFF', 'Mac Mini', 'sources']\",\n",
      "            \"source\": \"https://www.kaggle.com/datasets/jacopoferretti/bbc-articles-dataset\"\n",
      "        }\n",
      "    }\n",
      "]\n"
     ]
    }
   ],
   "source": [
    "results = query_qdrant(\"Give me articles about Steve Jobs\", \"bbc_news_articles\", QDRANT_CLUSTER_URL, QDRANT_KEY)\n",
    "print(json.dumps(results, indent=4))"
   ]
  },
  {
   "cell_type": "markdown",
   "id": "c3752ca0-1696-4dcc-8e23-d997d84d2633",
   "metadata": {},
   "source": [
    "# Connect asking questions with database search"
   ]
  },
  {
   "cell_type": "code",
   "execution_count": 4,
   "id": "df563ae6-313f-4701-b760-af74d6fd3f50",
   "metadata": {},
   "outputs": [],
   "source": [
    "client = QdrantClient(url=QDRANT_CLUSTER_URL, api_key=QDRANT_KEY)\n",
    "\n",
    "vector_store = Qdrant(\n",
    "    client=client,\n",
    "    collection_name=\"bbc_news_articles\",\n",
    "    embeddings=FastEmbedEmbeddings() ,\n",
    ")\n",
    "\n",
    "llm = ChatOpenAI(model_name= \"gpt-3.5-turbo\", temperature=0)"
   ]
  },
  {
   "cell_type": "code",
   "execution_count": 5,
   "id": "feda1c03-738d-4037-9c91-fd663f8b9ac4",
   "metadata": {},
   "outputs": [
    {
     "data": {
      "text/plain": [
       "'The iPod with one gigabyte of storage that was unveiled by Steve Jobs during the annual MacWorld speech costs $149 in the US and £99 in the UK.'"
      ]
     },
     "execution_count": 5,
     "metadata": {},
     "output_type": "execute_result"
    }
   ],
   "source": [
    "qa_chain = RetrievalQA.from_chain_type(\n",
    "    llm,\n",
    "    retriever=vector_store.as_retriever()\n",
    ")\n",
    "result = qa_chain({\"query\": \"How much ipod with one gigabyte storage costs that was unveiled by Steve Jobs during annual MacWorld speech?\"})\n",
    "result[\"result\"]"
   ]
  },
  {
   "cell_type": "code",
   "execution_count": 6,
   "id": "33a7b795-8c9e-48aa-952c-77d9ce82be13",
   "metadata": {},
   "outputs": [
    {
     "data": {
      "text/plain": [
       "\"I'm sorry, but the text provided does not mention the specific cost of an iPod with one gigabyte storage that was unveiled by Steve Jobs during an annual MacWorld speech. If you have any other questions or need further assistance, please let me know.\""
      ]
     },
     "execution_count": 6,
     "metadata": {},
     "output_type": "execute_result"
    }
   ],
   "source": [
    "qa_chain_mr = RetrievalQA.from_chain_type(\n",
    "    llm,\n",
    "    retriever=vector_store.as_retriever(),\n",
    "    chain_type=\"map_reduce\"\n",
    ")\n",
    "result = qa_chain_mr({\"query\": \"How much ipod with one gigabyte storage costs that was unveiled by Steve Jobs during annual MacWorld speech?\"})\n",
    "result[\"result\"]"
   ]
  },
  {
   "cell_type": "markdown",
   "id": "aa630594-c452-4c86-b88c-095f1a7df494",
   "metadata": {},
   "source": [
    "# Build a prompt"
   ]
  },
  {
   "cell_type": "code",
   "execution_count": 7,
   "id": "f98e28ab-5049-487d-89f7-f8095a313948",
   "metadata": {},
   "outputs": [
    {
     "data": {
      "text/plain": [
       "'The iPod with one gigabyte of storage that was unveiled by Steve Jobs during the annual MacWorld speech costs $149 (£99 in the UK).'"
      ]
     },
     "execution_count": 7,
     "metadata": {},
     "output_type": "execute_result"
    }
   ],
   "source": [
    "# Build prompt\n",
    "template = \"\"\"Use the following pieces of context to answer the question at the end. If you don't know the answer, just say that you don't know, don't try to make up an answer. Use 5 sentences maximum. Keep the answer as concise as possible. \n",
    "{context}\n",
    "Question: {question}\n",
    "Helpful Answer:\"\"\"\n",
    "QA_CHAIN_PROMPT = PromptTemplate(input_variables=[\"context\", \"question\", \"n_sentences\"], template=template)\n",
    "\n",
    "question =  \"How much ipod with one gigabyte storage costs that was unveiled by Steve Jobs during annual MacWorld speech?\"\n",
    "qa_chain = RetrievalQA.from_chain_type(llm,\n",
    "                                       retriever=vector_store.as_retriever(),\n",
    "                                       return_source_documents=True,\n",
    "                                       chain_type_kwargs={\"prompt\": QA_CHAIN_PROMPT})\n",
    "\n",
    "\n",
    "result = qa_chain({\"query\": question})\n",
    "result[\"result\"]"
   ]
  },
  {
   "cell_type": "markdown",
   "id": "be25ec77-4f4e-4d14-8cd8-7b1d7bd0f323",
   "metadata": {},
   "source": [
    "# Add memory"
   ]
  },
  {
   "cell_type": "code",
   "execution_count": 8,
   "id": "c73e1bc7-4c17-4f37-9c7a-f53c9eead2f0",
   "metadata": {},
   "outputs": [],
   "source": [
    "memory = ConversationBufferMemory(\n",
    "    memory_key=\"chat_history\",\n",
    "    return_messages=True\n",
    ")\n",
    "llm = ChatOpenAI(model_name=\"gpt-4o-mini\", temperature=0)\n",
    "retriever=vector_store.as_retriever()\n",
    "\n",
    "\n",
    "qa = ConversationalRetrievalChain.from_llm(\n",
    "    llm,\n",
    "    retriever=retriever,\n",
    "    memory=memory\n",
    ")"
   ]
  },
  {
   "cell_type": "code",
   "execution_count": 9,
   "id": "b0510267-ea8f-4751-8938-6cd37e91ad24",
   "metadata": {},
   "outputs": [
    {
     "data": {
      "text/plain": [
       "'The iPod shuffle with one gigabyte of storage costs $149 (£99) as unveiled by Steve Jobs during the annual MacWorld speech.'"
      ]
     },
     "execution_count": 9,
     "metadata": {},
     "output_type": "execute_result"
    }
   ],
   "source": [
    "question = \"How much ipod with one gigabyte storage costs that was unveiled by Steve Jobs during annual MacWorld speech?\"\n",
    "result = qa({\"question\": question})\n",
    "result['answer']"
   ]
  },
  {
   "cell_type": "code",
   "execution_count": 10,
   "id": "3c50d688-67d6-4c59-98a0-a66a42a8d24c",
   "metadata": {},
   "outputs": [
    {
     "data": {
      "text/plain": [
       "'Yes, Apple has released the iPod shuffle, which is a cheaper option compared to other iPod models. The iPod shuffle uses cheaper flash memory rather than hard drives and is available in two versions, one offering 512MB of storage for $99 (£69 in the UK) and a second with one gigabyte of storage for $149 (£99).'"
      ]
     },
     "execution_count": 10,
     "metadata": {},
     "output_type": "execute_result"
    }
   ],
   "source": [
    "question = \"Is there a cheaper option?\"\n",
    "result = qa({\"question\": question})\n",
    "result['answer']"
   ]
  }
 ],
 "metadata": {
  "kernelspec": {
   "display_name": "Python 3 (ipykernel)",
   "language": "python",
   "name": "python3"
  },
  "language_info": {
   "codemirror_mode": {
    "name": "ipython",
    "version": 3
   },
   "file_extension": ".py",
   "mimetype": "text/x-python",
   "name": "python",
   "nbconvert_exporter": "python",
   "pygments_lexer": "ipython3",
   "version": "3.12.7"
  }
 },
 "nbformat": 4,
 "nbformat_minor": 5
}
