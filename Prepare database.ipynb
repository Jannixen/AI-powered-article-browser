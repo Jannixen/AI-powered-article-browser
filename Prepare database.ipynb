{
 "cells": [
  {
   "cell_type": "code",
   "execution_count": 1,
   "id": "cf8221b0-8e6f-4870-8a90-b1638f64e766",
   "metadata": {},
   "outputs": [],
   "source": [
    "import pandas as pd\n",
    "import requests\n",
    "from bs4 import BeautifulSoup\n",
    "import time\n",
    "from dotenv import load_dotenv\n",
    "import os\n",
    "from database_utils import split_texts_for_db, calculate_embedding, add_articles_to_qdrant, assign_keywords\n",
    "from text_preparation_utils import sanitize_text, drop_similar_rows\n",
    "\n",
    "load_dotenv()\n",
    "QDRANT_KEY = os.getenv('QDRANT_KEY')\n",
    "QDRANT_CLUSTER_URL = os.getenv('QDRANT_CLUSTER_URL')\n",
    "HUGGING_FACE_TOKEN = os.getenv('HUGGING_FACE_TOKEN')"
   ]
  },
  {
   "cell_type": "markdown",
   "id": "2fd525e4-e78b-4d79-aeef-82d1648bfef6",
   "metadata": {},
   "source": [
    "# Load base BBC dataset extended with additional features"
   ]
  },
  {
   "cell_type": "code",
   "execution_count": 7,
   "id": "b9192e34-ed36-4f88-9b60-c789de94899a",
   "metadata": {},
   "outputs": [],
   "source": [
    "df_base = pd.read_csv('bbc_news_base.csv')\n",
    "df_base = df_base.drop(columns = ['Unnamed: 0', 'category_encoded', 'no_sentences', 'Flesch Reading Ease Score', 'Dale-Chall Readability Score'])"
   ]
  },
  {
   "cell_type": "code",
   "execution_count": 8,
   "id": "479fc19a-11ac-4858-ac1c-921ecec14d40",
   "metadata": {},
   "outputs": [
    {
     "data": {
      "text/html": [
       "<div>\n",
       "<style scoped>\n",
       "    .dataframe tbody tr th:only-of-type {\n",
       "        vertical-align: middle;\n",
       "    }\n",
       "\n",
       "    .dataframe tbody tr th {\n",
       "        vertical-align: top;\n",
       "    }\n",
       "\n",
       "    .dataframe thead th {\n",
       "        text-align: right;\n",
       "    }\n",
       "</style>\n",
       "<table border=\"1\" class=\"dataframe\">\n",
       "  <thead>\n",
       "    <tr style=\"text-align: right;\">\n",
       "      <th></th>\n",
       "      <th>text</th>\n",
       "      <th>labels</th>\n",
       "      <th>keywords</th>\n",
       "      <th>summary</th>\n",
       "    </tr>\n",
       "  </thead>\n",
       "  <tbody>\n",
       "    <tr>\n",
       "      <th>0</th>\n",
       "      <td>Ad sales boost Time Warner profit  Quarterly p...</td>\n",
       "      <td>business</td>\n",
       "      <td>['Time Warner', 'Quarterly profits', 'AOL', 'm...</td>\n",
       "      <td>Its profits were buoyed by one-off gains which...</td>\n",
       "    </tr>\n",
       "    <tr>\n",
       "      <th>1</th>\n",
       "      <td>Dollar gains on Greenspan speech  The dollar h...</td>\n",
       "      <td>business</td>\n",
       "      <td>['Federal Reserve', 'Greenspan speech', 'highe...</td>\n",
       "      <td>The dollar has hit its highest level against t...</td>\n",
       "    </tr>\n",
       "    <tr>\n",
       "      <th>2</th>\n",
       "      <td>Yukos unit buyer faces loan claim  The owners ...</td>\n",
       "      <td>business</td>\n",
       "      <td>['embattled Russian', 'Russian oil', 'unit buy...</td>\n",
       "      <td>The owners of embattled Russian oil giant Yuko...</td>\n",
       "    </tr>\n",
       "    <tr>\n",
       "      <th>3</th>\n",
       "      <td>High fuel prices hit BA's profits  British Air...</td>\n",
       "      <td>business</td>\n",
       "      <td>['British Airways', 'High fuel', 'blamed high'...</td>\n",
       "      <td>Looking ahead to its full year results to Marc...</td>\n",
       "    </tr>\n",
       "    <tr>\n",
       "      <th>4</th>\n",
       "      <td>Pernod takeover talk lifts Domecq  Shares in U...</td>\n",
       "      <td>business</td>\n",
       "      <td>['Allied Domecq', 'Domecq Shares', 'Pernod Ric...</td>\n",
       "      <td>Reports in the Wall Street Journal and the Fin...</td>\n",
       "    </tr>\n",
       "  </tbody>\n",
       "</table>\n",
       "</div>"
      ],
      "text/plain": [
       "                                                text    labels  \\\n",
       "0  Ad sales boost Time Warner profit  Quarterly p...  business   \n",
       "1  Dollar gains on Greenspan speech  The dollar h...  business   \n",
       "2  Yukos unit buyer faces loan claim  The owners ...  business   \n",
       "3  High fuel prices hit BA's profits  British Air...  business   \n",
       "4  Pernod takeover talk lifts Domecq  Shares in U...  business   \n",
       "\n",
       "                                            keywords  \\\n",
       "0  ['Time Warner', 'Quarterly profits', 'AOL', 'm...   \n",
       "1  ['Federal Reserve', 'Greenspan speech', 'highe...   \n",
       "2  ['embattled Russian', 'Russian oil', 'unit buy...   \n",
       "3  ['British Airways', 'High fuel', 'blamed high'...   \n",
       "4  ['Allied Domecq', 'Domecq Shares', 'Pernod Ric...   \n",
       "\n",
       "                                             summary  \n",
       "0  Its profits were buoyed by one-off gains which...  \n",
       "1  The dollar has hit its highest level against t...  \n",
       "2  The owners of embattled Russian oil giant Yuko...  \n",
       "3  Looking ahead to its full year results to Marc...  \n",
       "4  Reports in the Wall Street Journal and the Fin...  "
      ]
     },
     "execution_count": 8,
     "metadata": {},
     "output_type": "execute_result"
    }
   ],
   "source": [
    "df_base.head()"
   ]
  },
  {
   "cell_type": "code",
   "execution_count": 9,
   "id": "9df103f5-a3e8-4abe-b52b-e8e22fde3674",
   "metadata": {},
   "outputs": [
    {
     "data": {
      "text/plain": [
       "array(['business', 'entertainment', 'politics', 'sport', 'tech'],\n",
       "      dtype=object)"
      ]
     },
     "execution_count": 9,
     "metadata": {},
     "output_type": "execute_result"
    }
   ],
   "source": [
    "df_base.labels.unique()"
   ]
  },
  {
   "cell_type": "code",
   "execution_count": 12,
   "id": "ffa460c4-d100-422e-a2b7-7e57e5e89d1b",
   "metadata": {},
   "outputs": [
    {
     "data": {
      "text/html": [
       "<div>\n",
       "<style scoped>\n",
       "    .dataframe tbody tr th:only-of-type {\n",
       "        vertical-align: middle;\n",
       "    }\n",
       "\n",
       "    .dataframe tbody tr th {\n",
       "        vertical-align: top;\n",
       "    }\n",
       "\n",
       "    .dataframe thead th {\n",
       "        text-align: right;\n",
       "    }\n",
       "</style>\n",
       "<table border=\"1\" class=\"dataframe\">\n",
       "  <thead>\n",
       "    <tr style=\"text-align: right;\">\n",
       "      <th></th>\n",
       "      <th>text</th>\n",
       "      <th>labels</th>\n",
       "      <th>keywords</th>\n",
       "      <th>summary</th>\n",
       "      <th>splitted_text</th>\n",
       "      <th>embeddings</th>\n",
       "    </tr>\n",
       "  </thead>\n",
       "  <tbody>\n",
       "    <tr>\n",
       "      <th>0</th>\n",
       "      <td>Ad sales boost Time Warner profit  Quarterly p...</td>\n",
       "      <td>business</td>\n",
       "      <td>['Time Warner', 'Quarterly profits', 'AOL', 'm...</td>\n",
       "      <td>Its profits were buoyed by one-off gains which...</td>\n",
       "      <td>[Ad sales boost Time Warner profit  Quarterly ...</td>\n",
       "      <td>[[-0.06185626, -0.054555155, 0.0021503558, -0....</td>\n",
       "    </tr>\n",
       "    <tr>\n",
       "      <th>1</th>\n",
       "      <td>Dollar gains on Greenspan speech  The dollar h...</td>\n",
       "      <td>business</td>\n",
       "      <td>['Federal Reserve', 'Greenspan speech', 'highe...</td>\n",
       "      <td>The dollar has hit its highest level against t...</td>\n",
       "      <td>[Dollar gains on Greenspan speech  The dollar ...</td>\n",
       "      <td>[[0.006948544, -0.05492217, -0.020653008, -0.0...</td>\n",
       "    </tr>\n",
       "    <tr>\n",
       "      <th>2</th>\n",
       "      <td>Yukos unit buyer faces loan claim  The owners ...</td>\n",
       "      <td>business</td>\n",
       "      <td>['embattled Russian', 'Russian oil', 'unit buy...</td>\n",
       "      <td>The owners of embattled Russian oil giant Yuko...</td>\n",
       "      <td>[Yukos unit buyer faces loan claim  The owners...</td>\n",
       "      <td>[[-0.07373838, 0.0147340745, -0.018761022, -0....</td>\n",
       "    </tr>\n",
       "    <tr>\n",
       "      <th>3</th>\n",
       "      <td>High fuel prices hit BA's profits  British Air...</td>\n",
       "      <td>business</td>\n",
       "      <td>['British Airways', 'High fuel', 'blamed high'...</td>\n",
       "      <td>Looking ahead to its full year results to Marc...</td>\n",
       "      <td>[High fuel prices hit BA's profits  British Ai...</td>\n",
       "      <td>[[0.038942885, -0.024428101, -0.015652342, 0.0...</td>\n",
       "    </tr>\n",
       "    <tr>\n",
       "      <th>4</th>\n",
       "      <td>Pernod takeover talk lifts Domecq  Shares in U...</td>\n",
       "      <td>business</td>\n",
       "      <td>['Allied Domecq', 'Domecq Shares', 'Pernod Ric...</td>\n",
       "      <td>Reports in the Wall Street Journal and the Fin...</td>\n",
       "      <td>[Pernod takeover talk lifts Domecq  Shares in ...</td>\n",
       "      <td>[[0.023181796, -0.04872723, 0.00045929168, -0....</td>\n",
       "    </tr>\n",
       "  </tbody>\n",
       "</table>\n",
       "</div>"
      ],
      "text/plain": [
       "                                                text    labels  \\\n",
       "0  Ad sales boost Time Warner profit  Quarterly p...  business   \n",
       "1  Dollar gains on Greenspan speech  The dollar h...  business   \n",
       "2  Yukos unit buyer faces loan claim  The owners ...  business   \n",
       "3  High fuel prices hit BA's profits  British Air...  business   \n",
       "4  Pernod takeover talk lifts Domecq  Shares in U...  business   \n",
       "\n",
       "                                            keywords  \\\n",
       "0  ['Time Warner', 'Quarterly profits', 'AOL', 'm...   \n",
       "1  ['Federal Reserve', 'Greenspan speech', 'highe...   \n",
       "2  ['embattled Russian', 'Russian oil', 'unit buy...   \n",
       "3  ['British Airways', 'High fuel', 'blamed high'...   \n",
       "4  ['Allied Domecq', 'Domecq Shares', 'Pernod Ric...   \n",
       "\n",
       "                                             summary  \\\n",
       "0  Its profits were buoyed by one-off gains which...   \n",
       "1  The dollar has hit its highest level against t...   \n",
       "2  The owners of embattled Russian oil giant Yuko...   \n",
       "3  Looking ahead to its full year results to Marc...   \n",
       "4  Reports in the Wall Street Journal and the Fin...   \n",
       "\n",
       "                                       splitted_text  \\\n",
       "0  [Ad sales boost Time Warner profit  Quarterly ...   \n",
       "1  [Dollar gains on Greenspan speech  The dollar ...   \n",
       "2  [Yukos unit buyer faces loan claim  The owners...   \n",
       "3  [High fuel prices hit BA's profits  British Ai...   \n",
       "4  [Pernod takeover talk lifts Domecq  Shares in ...   \n",
       "\n",
       "                                          embeddings  \n",
       "0  [[-0.06185626, -0.054555155, 0.0021503558, -0....  \n",
       "1  [[0.006948544, -0.05492217, -0.020653008, -0.0...  \n",
       "2  [[-0.07373838, 0.0147340745, -0.018761022, -0....  \n",
       "3  [[0.038942885, -0.024428101, -0.015652342, 0.0...  \n",
       "4  [[0.023181796, -0.04872723, 0.00045929168, -0....  "
      ]
     },
     "execution_count": 12,
     "metadata": {},
     "output_type": "execute_result"
    }
   ],
   "source": [
    "df_base['splitted_text'] = df_base['text'].apply(lambda x: split_texts_for_db(x))\n",
    "df_base['embeddings'] = df_base['splitted_text'].apply(lambda x: calculate_embedding(x))\n",
    "df_base.head()"
   ]
  },
  {
   "cell_type": "code",
   "execution_count": 47,
   "id": "aaaebc8a-1f8f-44a7-bd72-8e0626e5ee8f",
   "metadata": {},
   "outputs": [],
   "source": [
    "df_base['data_source'] = 'https://www.kaggle.com/datasets/jacopoferretti/bbc-articles-dataset'\n",
    "add_articles_to_qdrant(df_base, QDRANT_KEY, QDRANT_CLUSTER_URL)"
   ]
  },
  {
   "cell_type": "markdown",
   "id": "5466869a-e388-4d01-ba91-cddc61838b5b",
   "metadata": {},
   "source": [
    "# Read 2,225 articles published on the BBC News website during 2004-2005"
   ]
  },
  {
   "cell_type": "code",
   "execution_count": 2,
   "id": "98cd81c1-79da-4492-99d6-af821a5b349a",
   "metadata": {},
   "outputs": [
    {
     "name": "stdout",
     "output_type": "stream",
     "text": [
      "Before deletion of similar texts 2225\n",
      "After the deletion of similar texts 1915\n"
     ]
    }
   ],
   "source": [
    "df_old = pd.read_csv('bbc-text.csv')\n",
    "df_old['text'] = df_old['text'].apply(lambda x: sanitize_text(x))\n",
    "\n",
    "print(f\"Before deletion of similar texts {len(df_old)}\")\n",
    "df_old = drop_similar_rows(df_old, 'text', 98)\n",
    "print(f\"After the deletion of similar texts {len(df_old)}\")"
   ]
  },
  {
   "cell_type": "code",
   "execution_count": 3,
   "id": "54dd0cc0-cfb1-4d35-b4c1-17e89b126b1e",
   "metadata": {},
   "outputs": [],
   "source": [
    "df_old['word_count'] = df_old['text'].apply(lambda x: len(x.split()))\n",
    "df_old = df_old[df_old['word_count'] >= 10].drop(columns=['word_count'])"
   ]
  },
  {
   "cell_type": "code",
   "execution_count": 4,
   "id": "84b01be1-5905-4eaa-910b-1682fdb9b04f",
   "metadata": {},
   "outputs": [
    {
     "name": "stdout",
     "output_type": "stream",
     "text": [
      "After the deletion of too short text 1915\n"
     ]
    }
   ],
   "source": [
    "print(f\"After the deletion of too short text {len(df_old)}\")"
   ]
  },
  {
   "cell_type": "code",
   "execution_count": 5,
   "id": "0c18f261-7e84-4b5e-a71a-6427d75737f8",
   "metadata": {},
   "outputs": [],
   "source": [
    "df_old['keywords'] = df_old['text'].apply(lambda x: assign_keywords(x))\n",
    "df_old['summary'] = \"\""
   ]
  },
  {
   "cell_type": "code",
   "execution_count": 6,
   "id": "c0dc06b3-2b61-4de9-a931-1c8351620f1f",
   "metadata": {},
   "outputs": [
    {
     "data": {
      "text/html": [
       "<div>\n",
       "<style scoped>\n",
       "    .dataframe tbody tr th:only-of-type {\n",
       "        vertical-align: middle;\n",
       "    }\n",
       "\n",
       "    .dataframe tbody tr th {\n",
       "        vertical-align: top;\n",
       "    }\n",
       "\n",
       "    .dataframe thead th {\n",
       "        text-align: right;\n",
       "    }\n",
       "</style>\n",
       "<table border=\"1\" class=\"dataframe\">\n",
       "  <thead>\n",
       "    <tr style=\"text-align: right;\">\n",
       "      <th></th>\n",
       "      <th>category</th>\n",
       "      <th>text</th>\n",
       "      <th>keywords</th>\n",
       "      <th>summary</th>\n",
       "      <th>splitted_text</th>\n",
       "      <th>embeddings</th>\n",
       "    </tr>\n",
       "  </thead>\n",
       "  <tbody>\n",
       "    <tr>\n",
       "      <th>0</th>\n",
       "      <td>tech</td>\n",
       "      <td>tv future in the hands of viewers with home th...</td>\n",
       "      <td>[home theatre, living room, las vegas, recorde...</td>\n",
       "      <td></td>\n",
       "      <td>[tv future in the hands of viewers with home t...</td>\n",
       "      <td>[[-0.0015538835, -0.06727467, 0.011174222, -0....</td>\n",
       "    </tr>\n",
       "    <tr>\n",
       "      <th>1</th>\n",
       "      <td>business</td>\n",
       "      <td>worldcom boss  left books alone  former worldc...</td>\n",
       "      <td>[told jurors, ebbers, accounting, boss left, m...</td>\n",
       "      <td></td>\n",
       "      <td>[worldcom boss  left books alone  former world...</td>\n",
       "      <td>[[-0.08354733, 0.059484005, -0.0131955845, -0....</td>\n",
       "    </tr>\n",
       "    <tr>\n",
       "      <th>2</th>\n",
       "      <td>sport</td>\n",
       "      <td>tigers wary of farrell  gamble  leicester say ...</td>\n",
       "      <td>[switch codes, great britain, tigers wary, and...</td>\n",
       "      <td></td>\n",
       "      <td>[tigers wary of farrell  gamble  leicester say...</td>\n",
       "      <td>[[-0.055961896, -0.008481116, -0.025843337, -0...</td>\n",
       "    </tr>\n",
       "    <tr>\n",
       "      <th>3</th>\n",
       "      <td>sport</td>\n",
       "      <td>yeading face newcastle in fa cup premiership s...</td>\n",
       "      <td>[ryman premier, side, yeading face, non-league...</td>\n",
       "      <td></td>\n",
       "      <td>[yeading face newcastle in fa cup premiership ...</td>\n",
       "      <td>[[0.015004399, -0.12569566, -0.028033992, -0.0...</td>\n",
       "    </tr>\n",
       "    <tr>\n",
       "      <th>5</th>\n",
       "      <td>politics</td>\n",
       "      <td>howard hits back at mongrel jibe michael howar...</td>\n",
       "      <td>[howard, party, labour, michael, tory leader]</td>\n",
       "      <td></td>\n",
       "      <td>[howard hits back at mongrel jibe michael howa...</td>\n",
       "      <td>[[0.0056457724, -0.025242308, 0.0383256, 0.028...</td>\n",
       "    </tr>\n",
       "  </tbody>\n",
       "</table>\n",
       "</div>"
      ],
      "text/plain": [
       "   category                                               text  \\\n",
       "0      tech  tv future in the hands of viewers with home th...   \n",
       "1  business  worldcom boss  left books alone  former worldc...   \n",
       "2     sport  tigers wary of farrell  gamble  leicester say ...   \n",
       "3     sport  yeading face newcastle in fa cup premiership s...   \n",
       "5  politics  howard hits back at mongrel jibe michael howar...   \n",
       "\n",
       "                                            keywords summary  \\\n",
       "0  [home theatre, living room, las vegas, recorde...           \n",
       "1  [told jurors, ebbers, accounting, boss left, m...           \n",
       "2  [switch codes, great britain, tigers wary, and...           \n",
       "3  [ryman premier, side, yeading face, non-league...           \n",
       "5      [howard, party, labour, michael, tory leader]           \n",
       "\n",
       "                                       splitted_text  \\\n",
       "0  [tv future in the hands of viewers with home t...   \n",
       "1  [worldcom boss  left books alone  former world...   \n",
       "2  [tigers wary of farrell  gamble  leicester say...   \n",
       "3  [yeading face newcastle in fa cup premiership ...   \n",
       "5  [howard hits back at mongrel jibe michael howa...   \n",
       "\n",
       "                                          embeddings  \n",
       "0  [[-0.0015538835, -0.06727467, 0.011174222, -0....  \n",
       "1  [[-0.08354733, 0.059484005, -0.0131955845, -0....  \n",
       "2  [[-0.055961896, -0.008481116, -0.025843337, -0...  \n",
       "3  [[0.015004399, -0.12569566, -0.028033992, -0.0...  \n",
       "5  [[0.0056457724, -0.025242308, 0.0383256, 0.028...  "
      ]
     },
     "execution_count": 6,
     "metadata": {},
     "output_type": "execute_result"
    }
   ],
   "source": [
    "df_old['splitted_text'] = df_old['text'].apply(lambda x: split_texts_for_db(x))\n",
    "df_old['embeddings'] = df_old['splitted_text'].apply(lambda x: calculate_embedding(x))\n",
    "df_old.head()"
   ]
  },
  {
   "cell_type": "code",
   "execution_count": 8,
   "id": "b847a225-8bec-4878-9ae0-bf57a461c6c6",
   "metadata": {},
   "outputs": [],
   "source": [
    "df_old['data_source'] = 'https://www.kaggle.com/datasets/bhavikjikadara/bbc-news-articles'\n",
    "df_old.rename(columns = {'category': 'labels'}, inplace=True) \n",
    "add_articles_to_qdrant(df_old, QDRANT_KEY, QDRANT_CLUSTER_URL)"
   ]
  },
  {
   "cell_type": "markdown",
   "id": "00f2b909-a74b-4950-9cc9-fe1fbdafc41a",
   "metadata": {},
   "source": [
    "# Latest BBC News articles via dataset on Huggingface"
   ]
  },
  {
   "cell_type": "code",
   "execution_count": 9,
   "id": "7b2edbb0-bcd0-4ef6-8834-634b6b5bf16d",
   "metadata": {},
   "outputs": [
    {
     "data": {
      "text/html": [
       "<div>\n",
       "<style scoped>\n",
       "    .dataframe tbody tr th:only-of-type {\n",
       "        vertical-align: middle;\n",
       "    }\n",
       "\n",
       "    .dataframe tbody tr th {\n",
       "        vertical-align: top;\n",
       "    }\n",
       "\n",
       "    .dataframe thead th {\n",
       "        text-align: right;\n",
       "    }\n",
       "</style>\n",
       "<table border=\"1\" class=\"dataframe\">\n",
       "  <thead>\n",
       "    <tr style=\"text-align: right;\">\n",
       "      <th></th>\n",
       "      <th>title</th>\n",
       "      <th>published_date</th>\n",
       "      <th>authors</th>\n",
       "      <th>description</th>\n",
       "      <th>section</th>\n",
       "      <th>content</th>\n",
       "      <th>link</th>\n",
       "    </tr>\n",
       "  </thead>\n",
       "  <tbody>\n",
       "    <tr>\n",
       "      <th>0</th>\n",
       "      <td>Newscast - Keir Diary… A Week in the Life of t...</td>\n",
       "      <td>2024-09-02</td>\n",
       "      <td>None</td>\n",
       "      <td>Recapping a busy week for Sir Keir Starmer.</td>\n",
       "      <td>None</td>\n",
       "      <td>Keir Diary… A Week in the Life of the PM Keir ...</td>\n",
       "      <td>http://www.bbc.co.uk/sounds/play/m0022js5</td>\n",
       "    </tr>\n",
       "    <tr>\n",
       "      <th>1</th>\n",
       "      <td>Americast - Profile: Who is Donald Trump? (Par...</td>\n",
       "      <td>2024-09-02</td>\n",
       "      <td>None</td>\n",
       "      <td>How the man became The Donald</td>\n",
       "      <td>None</td>\n",
       "      <td>Americanswers! Do Harris/Trump actually need A...</td>\n",
       "      <td>http://www.bbc.co.uk/sounds/play/p0jmwg24</td>\n",
       "    </tr>\n",
       "    <tr>\n",
       "      <th>2</th>\n",
       "      <td>Titanic: Scan reveals world's most famous wrec...</td>\n",
       "      <td>2024-09-02</td>\n",
       "      <td>None</td>\n",
       "      <td>It's the first full-sized digital scan of the ...</td>\n",
       "      <td>None</td>\n",
       "      <td>The first full-sized digital scan of the Titan...</td>\n",
       "      <td>http://www.bbc.co.uk/news/science-environment-...</td>\n",
       "    </tr>\n",
       "    <tr>\n",
       "      <th>3</th>\n",
       "      <td>Holocaust: Nicholas Winton meets children he s...</td>\n",
       "      <td>2024-09-03</td>\n",
       "      <td>None</td>\n",
       "      <td>It was 1988 when Sir Nicholas was surprised by...</td>\n",
       "      <td>None</td>\n",
       "      <td>This is the moment Nicholas Winton came face-t...</td>\n",
       "      <td>http://www.bbc.co.uk/news/uk-wales-66467077</td>\n",
       "    </tr>\n",
       "    <tr>\n",
       "      <th>4</th>\n",
       "      <td>Titanic: Scan reveals world's most famous wrec...</td>\n",
       "      <td>2024-09-03</td>\n",
       "      <td>None</td>\n",
       "      <td>It's the first full-sized digital scan of the ...</td>\n",
       "      <td>None</td>\n",
       "      <td>The first full-sized digital scan of the Titan...</td>\n",
       "      <td>http://www.bbc.co.uk/news/science-environment-...</td>\n",
       "    </tr>\n",
       "  </tbody>\n",
       "</table>\n",
       "</div>"
      ],
      "text/plain": [
       "                                               title published_date authors  \\\n",
       "0  Newscast - Keir Diary… A Week in the Life of t...     2024-09-02    None   \n",
       "1  Americast - Profile: Who is Donald Trump? (Par...     2024-09-02    None   \n",
       "2  Titanic: Scan reveals world's most famous wrec...     2024-09-02    None   \n",
       "3  Holocaust: Nicholas Winton meets children he s...     2024-09-03    None   \n",
       "4  Titanic: Scan reveals world's most famous wrec...     2024-09-03    None   \n",
       "\n",
       "                                         description section  \\\n",
       "0        Recapping a busy week for Sir Keir Starmer.    None   \n",
       "1                      How the man became The Donald    None   \n",
       "2  It's the first full-sized digital scan of the ...    None   \n",
       "3  It was 1988 when Sir Nicholas was surprised by...    None   \n",
       "4  It's the first full-sized digital scan of the ...    None   \n",
       "\n",
       "                                             content  \\\n",
       "0  Keir Diary… A Week in the Life of the PM Keir ...   \n",
       "1  Americanswers! Do Harris/Trump actually need A...   \n",
       "2  The first full-sized digital scan of the Titan...   \n",
       "3  This is the moment Nicholas Winton came face-t...   \n",
       "4  The first full-sized digital scan of the Titan...   \n",
       "\n",
       "                                                link  \n",
       "0          http://www.bbc.co.uk/sounds/play/m0022js5  \n",
       "1          http://www.bbc.co.uk/sounds/play/p0jmwg24  \n",
       "2  http://www.bbc.co.uk/news/science-environment-...  \n",
       "3        http://www.bbc.co.uk/news/uk-wales-66467077  \n",
       "4  http://www.bbc.co.uk/news/science-environment-...  "
      ]
     },
     "execution_count": 9,
     "metadata": {},
     "output_type": "execute_result"
    }
   ],
   "source": [
    "from huggingface_hub import login\n",
    "\n",
    "login(HUGGING_FACE_TOKEN)\n",
    "\n",
    "df_hf = pd.read_parquet(\"hf://datasets/RealTimeData/bbc_latest/data/train-00000-of-00001.parquet\")\n",
    "df_hf.head()"
   ]
  },
  {
   "cell_type": "code",
   "execution_count": 38,
   "id": "5e922f1f-a23f-41d0-b247-1a3e82f69616",
   "metadata": {},
   "outputs": [
    {
     "data": {
      "text/html": [
       "<div>\n",
       "<style scoped>\n",
       "    .dataframe tbody tr th:only-of-type {\n",
       "        vertical-align: middle;\n",
       "    }\n",
       "\n",
       "    .dataframe tbody tr th {\n",
       "        vertical-align: top;\n",
       "    }\n",
       "\n",
       "    .dataframe thead th {\n",
       "        text-align: right;\n",
       "    }\n",
       "</style>\n",
       "<table border=\"1\" class=\"dataframe\">\n",
       "  <thead>\n",
       "    <tr style=\"text-align: right;\">\n",
       "      <th></th>\n",
       "      <th>title</th>\n",
       "      <th>published_date</th>\n",
       "      <th>authors</th>\n",
       "      <th>description</th>\n",
       "      <th>section</th>\n",
       "      <th>content</th>\n",
       "      <th>link</th>\n",
       "    </tr>\n",
       "  </thead>\n",
       "  <tbody>\n",
       "    <tr>\n",
       "      <th>3</th>\n",
       "      <td>Holocaust: Nicholas Winton meets children he s...</td>\n",
       "      <td>2024-09-03</td>\n",
       "      <td>None</td>\n",
       "      <td>It was 1988 when Sir Nicholas was surprised by...</td>\n",
       "      <td>None</td>\n",
       "      <td>This is the moment Nicholas Winton came face-t...</td>\n",
       "      <td>http://www.bbc.co.uk/news/uk-wales-66467077</td>\n",
       "    </tr>\n",
       "    <tr>\n",
       "      <th>6</th>\n",
       "      <td>Holocaust: Nicholas Winton meets children he s...</td>\n",
       "      <td>2024-09-04</td>\n",
       "      <td>None</td>\n",
       "      <td>It was 1988 when Sir Nicholas was surprised by...</td>\n",
       "      <td>None</td>\n",
       "      <td>This is the moment Nicholas Winton came face-t...</td>\n",
       "      <td>http://www.bbc.co.uk/news/uk-wales-66467077</td>\n",
       "    </tr>\n",
       "    <tr>\n",
       "      <th>8</th>\n",
       "      <td>Watch: Maori MP performs haka before swearing ...</td>\n",
       "      <td>2024-09-05</td>\n",
       "      <td>None</td>\n",
       "      <td>Rawiri Waititim, an advocate for Maori rights,...</td>\n",
       "      <td>None</td>\n",
       "      <td>New Zealand politician Rawiri Waititi broke pr...</td>\n",
       "      <td>http://www.bbc.co.uk/news/world-asia-67622272</td>\n",
       "    </tr>\n",
       "    <tr>\n",
       "      <th>9</th>\n",
       "      <td>In pictures: The 2024 Paralympic Games - BBC News</td>\n",
       "      <td>2024-09-06</td>\n",
       "      <td>None</td>\n",
       "      <td>Amazing images from the Paris Paralympics</td>\n",
       "      <td>None</td>\n",
       "      <td>The 2024 Summer Paralympic Games are drawing t...</td>\n",
       "      <td>http://www.bbc.co.uk/news/resources/idt-6c21f8...</td>\n",
       "    </tr>\n",
       "    <tr>\n",
       "      <th>14</th>\n",
       "      <td>In pictures: The 2024 Paralympic Games - BBC News</td>\n",
       "      <td>2024-09-08</td>\n",
       "      <td>None</td>\n",
       "      <td>Amazing images from the Paris Paralympics</td>\n",
       "      <td>None</td>\n",
       "      <td>The 2024 Summer Paralympic Games are drawing t...</td>\n",
       "      <td>http://www.bbc.co.uk/news/resources/idt-6c21f8...</td>\n",
       "    </tr>\n",
       "  </tbody>\n",
       "</table>\n",
       "</div>"
      ],
      "text/plain": [
       "                                                title published_date authors  \\\n",
       "3   Holocaust: Nicholas Winton meets children he s...     2024-09-03    None   \n",
       "6   Holocaust: Nicholas Winton meets children he s...     2024-09-04    None   \n",
       "8   Watch: Maori MP performs haka before swearing ...     2024-09-05    None   \n",
       "9   In pictures: The 2024 Paralympic Games - BBC News     2024-09-06    None   \n",
       "14  In pictures: The 2024 Paralympic Games - BBC News     2024-09-08    None   \n",
       "\n",
       "                                          description section  \\\n",
       "3   It was 1988 when Sir Nicholas was surprised by...    None   \n",
       "6   It was 1988 when Sir Nicholas was surprised by...    None   \n",
       "8   Rawiri Waititim, an advocate for Maori rights,...    None   \n",
       "9           Amazing images from the Paris Paralympics    None   \n",
       "14          Amazing images from the Paris Paralympics    None   \n",
       "\n",
       "                                              content  \\\n",
       "3   This is the moment Nicholas Winton came face-t...   \n",
       "6   This is the moment Nicholas Winton came face-t...   \n",
       "8   New Zealand politician Rawiri Waititi broke pr...   \n",
       "9   The 2024 Summer Paralympic Games are drawing t...   \n",
       "14  The 2024 Summer Paralympic Games are drawing t...   \n",
       "\n",
       "                                                 link  \n",
       "3         http://www.bbc.co.uk/news/uk-wales-66467077  \n",
       "6         http://www.bbc.co.uk/news/uk-wales-66467077  \n",
       "8       http://www.bbc.co.uk/news/world-asia-67622272  \n",
       "9   http://www.bbc.co.uk/news/resources/idt-6c21f8...  \n",
       "14  http://www.bbc.co.uk/news/resources/idt-6c21f8...  "
      ]
     },
     "execution_count": 38,
     "metadata": {},
     "output_type": "execute_result"
    }
   ],
   "source": [
    "df_hf[df_hf['content'].str.len() > 500]"
   ]
  },
  {
   "cell_type": "code",
   "execution_count": 41,
   "id": "7fe936e1-476f-411d-b248-ca77bf779b9c",
   "metadata": {},
   "outputs": [
    {
     "data": {
      "text/plain": [
       "\"This is the moment Nicholas Winton came face-to-face with some of the 669 Jewish children he saved from the Nazis.\\n\\nIt was 1988 and for millions watching That's Life! on TV at home it was an unforgettable moment.\\n\\nNow Sir Nicholas's story is to be brought to life on the big screen with Port Talbot's Sir Anthony Hopkins in the starring role.\\n\\nOne Life will tell how Sir Nicholas, a London stockbroker who died in Berkshire in 2015, helped get young Jewish refugees out of occupied Czechoslovakia in 1938.\""
      ]
     },
     "execution_count": 41,
     "metadata": {},
     "output_type": "execute_result"
    }
   ],
   "source": [
    "df_hf.iloc[6]['content']"
   ]
  },
  {
   "cell_type": "code",
   "execution_count": 10,
   "id": "70d27e30-e9c3-4233-9a36-2d5a07421691",
   "metadata": {},
   "outputs": [],
   "source": [
    "import datasets\n",
    "ds = datasets.load_dataset('RealTimeData/bbc_latest', revision = '2023-08-20')"
   ]
  },
  {
   "cell_type": "markdown",
   "id": "cc8c4320-10d5-485e-b8eb-c062baf06ccd",
   "metadata": {},
   "source": [
    "# Dataset with only urls having 35,860 rows from 07 March 2022 to 03 July 2024"
   ]
  },
  {
   "cell_type": "code",
   "execution_count": 4,
   "id": "395de3d6-9fe5-43f0-82a2-67acabc5c456",
   "metadata": {},
   "outputs": [
    {
     "data": {
      "text/html": [
       "<div>\n",
       "<style scoped>\n",
       "    .dataframe tbody tr th:only-of-type {\n",
       "        vertical-align: middle;\n",
       "    }\n",
       "\n",
       "    .dataframe tbody tr th {\n",
       "        vertical-align: top;\n",
       "    }\n",
       "\n",
       "    .dataframe thead th {\n",
       "        text-align: right;\n",
       "    }\n",
       "</style>\n",
       "<table border=\"1\" class=\"dataframe\">\n",
       "  <thead>\n",
       "    <tr style=\"text-align: right;\">\n",
       "      <th></th>\n",
       "      <th>title</th>\n",
       "      <th>pubDate</th>\n",
       "      <th>guid</th>\n",
       "      <th>link</th>\n",
       "      <th>description</th>\n",
       "    </tr>\n",
       "  </thead>\n",
       "  <tbody>\n",
       "    <tr>\n",
       "      <th>0</th>\n",
       "      <td>Ukraine: Angry Zelensky vows to punish Russian...</td>\n",
       "      <td>Mon, 07 Mar 2022 08:01:56 GMT</td>\n",
       "      <td>https://www.bbc.co.uk/news/world-europe-60638042</td>\n",
       "      <td>https://www.bbc.co.uk/news/world-europe-606380...</td>\n",
       "      <td>The Ukrainian president says the country will ...</td>\n",
       "    </tr>\n",
       "    <tr>\n",
       "      <th>1</th>\n",
       "      <td>War in Ukraine: Taking cover in a town under a...</td>\n",
       "      <td>Sun, 06 Mar 2022 22:49:58 GMT</td>\n",
       "      <td>https://www.bbc.co.uk/news/world-europe-60641873</td>\n",
       "      <td>https://www.bbc.co.uk/news/world-europe-606418...</td>\n",
       "      <td>Jeremy Bowen was on the frontline in Irpin, as...</td>\n",
       "    </tr>\n",
       "    <tr>\n",
       "      <th>2</th>\n",
       "      <td>Ukraine war 'catastrophic for global food'</td>\n",
       "      <td>Mon, 07 Mar 2022 00:14:42 GMT</td>\n",
       "      <td>https://www.bbc.co.uk/news/business-60623941</td>\n",
       "      <td>https://www.bbc.co.uk/news/business-60623941?a...</td>\n",
       "      <td>One of the world's biggest fertiliser firms sa...</td>\n",
       "    </tr>\n",
       "    <tr>\n",
       "      <th>3</th>\n",
       "      <td>Manchester Arena bombing: Saffie Roussos's par...</td>\n",
       "      <td>Mon, 07 Mar 2022 00:05:40 GMT</td>\n",
       "      <td>https://www.bbc.co.uk/news/uk-60579079</td>\n",
       "      <td>https://www.bbc.co.uk/news/uk-60579079?at_medi...</td>\n",
       "      <td>The parents of the Manchester Arena bombing's ...</td>\n",
       "    </tr>\n",
       "    <tr>\n",
       "      <th>4</th>\n",
       "      <td>Ukraine conflict: Oil price soars to highest l...</td>\n",
       "      <td>Mon, 07 Mar 2022 08:15:53 GMT</td>\n",
       "      <td>https://www.bbc.co.uk/news/business-60642786</td>\n",
       "      <td>https://www.bbc.co.uk/news/business-60642786?a...</td>\n",
       "      <td>Consumers are feeling the impact of higher ene...</td>\n",
       "    </tr>\n",
       "  </tbody>\n",
       "</table>\n",
       "</div>"
      ],
      "text/plain": [
       "                                               title  \\\n",
       "0  Ukraine: Angry Zelensky vows to punish Russian...   \n",
       "1  War in Ukraine: Taking cover in a town under a...   \n",
       "2         Ukraine war 'catastrophic for global food'   \n",
       "3  Manchester Arena bombing: Saffie Roussos's par...   \n",
       "4  Ukraine conflict: Oil price soars to highest l...   \n",
       "\n",
       "                         pubDate  \\\n",
       "0  Mon, 07 Mar 2022 08:01:56 GMT   \n",
       "1  Sun, 06 Mar 2022 22:49:58 GMT   \n",
       "2  Mon, 07 Mar 2022 00:14:42 GMT   \n",
       "3  Mon, 07 Mar 2022 00:05:40 GMT   \n",
       "4  Mon, 07 Mar 2022 08:15:53 GMT   \n",
       "\n",
       "                                               guid  \\\n",
       "0  https://www.bbc.co.uk/news/world-europe-60638042   \n",
       "1  https://www.bbc.co.uk/news/world-europe-60641873   \n",
       "2      https://www.bbc.co.uk/news/business-60623941   \n",
       "3            https://www.bbc.co.uk/news/uk-60579079   \n",
       "4      https://www.bbc.co.uk/news/business-60642786   \n",
       "\n",
       "                                                link  \\\n",
       "0  https://www.bbc.co.uk/news/world-europe-606380...   \n",
       "1  https://www.bbc.co.uk/news/world-europe-606418...   \n",
       "2  https://www.bbc.co.uk/news/business-60623941?a...   \n",
       "3  https://www.bbc.co.uk/news/uk-60579079?at_medi...   \n",
       "4  https://www.bbc.co.uk/news/business-60642786?a...   \n",
       "\n",
       "                                         description  \n",
       "0  The Ukrainian president says the country will ...  \n",
       "1  Jeremy Bowen was on the frontline in Irpin, as...  \n",
       "2  One of the world's biggest fertiliser firms sa...  \n",
       "3  The parents of the Manchester Arena bombing's ...  \n",
       "4  Consumers are feeling the impact of higher ene...  "
      ]
     },
     "execution_count": 4,
     "metadata": {},
     "output_type": "execute_result"
    }
   ],
   "source": [
    "df_urls = pd.read_csv('bbc_news.csv')\n",
    "df_urls.head()"
   ]
  },
  {
   "cell_type": "code",
   "execution_count": 5,
   "id": "671c1766-80e9-4079-a1aa-cb2b60b96f92",
   "metadata": {},
   "outputs": [
    {
     "name": "stdout",
     "output_type": "stream",
     "text": [
      "https://www.bbc.co.uk/news/business-60623941?at_medium=RSS&at_campaign=KARANGA\n"
     ]
    }
   ],
   "source": [
    "print(df_ver_1.iloc[2].link)"
   ]
  },
  {
   "cell_type": "code",
   "execution_count": 6,
   "id": "a36d79b5-5e83-4bb9-b1e3-1ba88084fcc6",
   "metadata": {},
   "outputs": [
    {
     "name": "stdout",
     "output_type": "stream",
     "text": [
      "One of the world's biggest fertiliser firms says the conflict could deliver a shock to food supplies.\n"
     ]
    }
   ],
   "source": [
    "print(df_ver_1.iloc[2].description)"
   ]
  },
  {
   "cell_type": "code",
   "execution_count": 7,
   "id": "42fa5247-0cc5-4b39-bce8-7ca18a68076c",
   "metadata": {},
   "outputs": [
    {
     "name": "stdout",
     "output_type": "stream",
     "text": [
      "42115\n"
     ]
    }
   ],
   "source": [
    "print(len(df_ver_1))"
   ]
  },
  {
   "cell_type": "code",
   "execution_count": 8,
   "id": "946e981f-14a6-42ee-a571-cace31b6f95c",
   "metadata": {},
   "outputs": [
    {
     "name": "stdout",
     "output_type": "stream",
     "text": [
      "2106\n"
     ]
    }
   ],
   "source": [
    "df_ver_1 = df_ver_1.sample(frac=0.05, random_state=42)\n",
    "print(len(df_ver_1))"
   ]
  },
  {
   "cell_type": "code",
   "execution_count": 10,
   "id": "ca932e11-bcd3-401a-9e21-675b7fb89aca",
   "metadata": {},
   "outputs": [],
   "source": [
    "def scrape_bbc_article(url):\n",
    "    try:\n",
    "        # Send a GET request to the URL\n",
    "        response = requests.get(url)\n",
    "        response.raise_for_status()  # Raise an exception for HTTP errors\n",
    "\n",
    "        # Parse the HTML content of the page\n",
    "        soup = BeautifulSoup(response.content, 'html.parser')\n",
    "\n",
    "        # Extract the headline\n",
    "        headline = soup.find('h1').get_text(strip=True) if soup.find('h1') else 'No headline found'\n",
    "\n",
    "        # Extract the article body\n",
    "        article_body = soup.find('article')  # Target the main article container\n",
    "        paragraphs = article_body.find_all('p') if article_body else []\n",
    "        # List of prefixes to ignore\n",
    "        ignore_prefixes = [\"LIVE:\", \"IN KYIV:\", \"ANALYSIS:\", \"EXPLAINED:\", \"IN DEPTH:\"]\n",
    "\n",
    "        # Filter out paragraphs that start with any of the prefixes\n",
    "        filtered_paragraphs = []\n",
    "        for p in paragraphs:\n",
    "            text = p.get_text(strip=True)\n",
    "            if not any(text.startswith(prefix) for prefix in ignore_prefixes):\n",
    "                filtered_paragraphs.append(text)\n",
    "\n",
    "        # Combine the filtered paragraphs\n",
    "        article_text = \"\\n\".join(filtered_paragraphs)\n",
    "\n",
    "        # Return the headline and article text\n",
    "        return headline, article_text\n",
    "\n",
    "    except Exception as e:\n",
    "        return f\"An error occurred: {e}\""
   ]
  },
  {
   "cell_type": "code",
   "execution_count": 11,
   "id": "0daa65fa-ed96-40f4-b0b6-afb83693160e",
   "metadata": {},
   "outputs": [
    {
     "ename": "KeyboardInterrupt",
     "evalue": "",
     "output_type": "error",
     "traceback": [
      "\u001b[1;31m---------------------------------------------------------------------------\u001b[0m",
      "\u001b[1;31mKeyboardInterrupt\u001b[0m                         Traceback (most recent call last)",
      "Cell \u001b[1;32mIn[11], line 9\u001b[0m\n\u001b[0;32m      7\u001b[0m     \u001b[38;5;28mprint\u001b[39m(e)\n\u001b[0;32m      8\u001b[0m df_ver_1\u001b[38;5;241m.\u001b[39mloc[i, \u001b[38;5;124m\"\u001b[39m\u001b[38;5;124mtext\u001b[39m\u001b[38;5;124m\"\u001b[39m]\u001b[38;5;241m=\u001b[39m article_text\n\u001b[1;32m----> 9\u001b[0m time\u001b[38;5;241m.\u001b[39msleep(\u001b[38;5;241m3\u001b[39m)\n",
      "\u001b[1;31mKeyboardInterrupt\u001b[0m: "
     ]
    }
   ],
   "source": [
    "# get texts of articles\n",
    "#for i, row in df_ver_1.iterrows():\n",
    "#    url = row['link']\n",
    "#    try:\n",
    "#        headline, article_text = scrape_bbc_article(url)\n",
    "#    except Exception as e:\n",
    "#        print(e)\n",
    "#    df_ver_1.loc[i, \"text\"]= article_text\n",
    "#    time.sleep(3)"
   ]
  },
  {
   "cell_type": "markdown",
   "id": "025db9c6-7251-4426-af91-733d8213874a",
   "metadata": {},
   "source": [
    "# Sources\n",
    "\n",
    "1. https://www.kaggle.com/datasets/jacopoferretti/bbc-articles-dataset\n",
    "2. https://www.kaggle.com/datasets/bhavikjikadara/bbc-news-articles\n",
    "3. https://huggingface.co/datasets/SetFit/bbc-news"
   ]
  }
 ],
 "metadata": {
  "kernelspec": {
   "display_name": "Python 3 (ipykernel)",
   "language": "python",
   "name": "python3"
  },
  "language_info": {
   "codemirror_mode": {
    "name": "ipython",
    "version": 3
   },
   "file_extension": ".py",
   "mimetype": "text/x-python",
   "name": "python",
   "nbconvert_exporter": "python",
   "pygments_lexer": "ipython3",
   "version": "3.12.7"
  }
 },
 "nbformat": 4,
 "nbformat_minor": 5
}
